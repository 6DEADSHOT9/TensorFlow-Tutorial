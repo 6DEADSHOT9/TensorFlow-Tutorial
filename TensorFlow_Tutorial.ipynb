{
  "nbformat": 4,
  "nbformat_minor": 0,
  "metadata": {
    "colab": {
      "name": "TensorFlow Tutorial.ipynb",
      "provenance": [],
      "authorship_tag": "ABX9TyPeLQP85lmWlc6IJeDLdjTg",
      "include_colab_link": true
    },
    "kernelspec": {
      "name": "python3",
      "display_name": "Python 3"
    },
    "language_info": {
      "name": "python"
    }
  },
  "cells": [
    {
      "cell_type": "markdown",
      "metadata": {
        "id": "view-in-github",
        "colab_type": "text"
      },
      "source": [
        "<a href=\"https://colab.research.google.com/github/6DEADSHOT9/TensorFlow-Tutorial/blob/main/TensorFlow_Tutorial.ipynb\" target=\"_parent\"><img src=\"https://colab.research.google.com/assets/colab-badge.svg\" alt=\"Open In Colab\"/></a>"
      ]
    },
    {
      "cell_type": "markdown",
      "metadata": {
        "id": "M4pXoxyUw4cf"
      },
      "source": [
        "# TensorFlow Tutorial\n"
      ]
    },
    {
      "cell_type": "markdown",
      "metadata": {
        "id": "y0e9opNYxTH9"
      },
      "source": [
        ""
      ]
    }
  ]
}